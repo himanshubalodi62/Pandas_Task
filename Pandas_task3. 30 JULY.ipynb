{
 "cells": [
  {
   "cell_type": "code",
   "execution_count": 59,
   "id": "e2624c7b",
   "metadata": {},
   "outputs": [],
   "source": [
    "import pandas as pd"
   ]
  },
  {
   "cell_type": "code",
   "execution_count": 60,
   "id": "49164f2d",
   "metadata": {},
   "outputs": [
    {
     "data": {
      "text/plain": [
       "'C:\\\\Users\\\\Balodi\\\\Downloads'"
      ]
     },
     "execution_count": 60,
     "metadata": {},
     "output_type": "execute_result"
    }
   ],
   "source": [
    "import os\n",
    "os.getcwd()"
   ]
  },
  {
   "cell_type": "code",
   "execution_count": 61,
   "id": "15d6282d",
   "metadata": {},
   "outputs": [],
   "source": [
    "Agent_df = pd.read_excel(r'E:\\himanshu_2022\\Download\\AgentPerformance.xlsx')"
   ]
  },
  {
   "cell_type": "code",
   "execution_count": 62,
   "id": "d7bbac3e",
   "metadata": {},
   "outputs": [
    {
     "data": {
      "text/html": [
       "<div>\n",
       "<style scoped>\n",
       "    .dataframe tbody tr th:only-of-type {\n",
       "        vertical-align: middle;\n",
       "    }\n",
       "\n",
       "    .dataframe tbody tr th {\n",
       "        vertical-align: top;\n",
       "    }\n",
       "\n",
       "    .dataframe thead th {\n",
       "        text-align: right;\n",
       "    }\n",
       "</style>\n",
       "<table border=\"1\" class=\"dataframe\">\n",
       "  <thead>\n",
       "    <tr style=\"text-align: right;\">\n",
       "      <th></th>\n",
       "      <th>SL No</th>\n",
       "      <th>Date</th>\n",
       "      <th>Agent Name</th>\n",
       "      <th>Total Chats</th>\n",
       "      <th>Average Response Time</th>\n",
       "      <th>Average Resolution Time</th>\n",
       "      <th>Average Rating</th>\n",
       "      <th>Total Feedback</th>\n",
       "    </tr>\n",
       "  </thead>\n",
       "  <tbody>\n",
       "    <tr>\n",
       "      <th>0</th>\n",
       "      <td>1</td>\n",
       "      <td>2022-07-30</td>\n",
       "      <td>Prerna Singh</td>\n",
       "      <td>11</td>\n",
       "      <td>00:00:38</td>\n",
       "      <td>00:04:20</td>\n",
       "      <td>4.11</td>\n",
       "      <td>9</td>\n",
       "    </tr>\n",
       "    <tr>\n",
       "      <th>1</th>\n",
       "      <td>2</td>\n",
       "      <td>2022-07-30</td>\n",
       "      <td>Nandani Gupta</td>\n",
       "      <td>11</td>\n",
       "      <td>00:01:15</td>\n",
       "      <td>00:28:25</td>\n",
       "      <td>3.14</td>\n",
       "      <td>7</td>\n",
       "    </tr>\n",
       "    <tr>\n",
       "      <th>2</th>\n",
       "      <td>3</td>\n",
       "      <td>2022-07-30</td>\n",
       "      <td>Ameya Jain</td>\n",
       "      <td>14</td>\n",
       "      <td>00:00:30</td>\n",
       "      <td>00:11:36</td>\n",
       "      <td>4.55</td>\n",
       "      <td>11</td>\n",
       "    </tr>\n",
       "    <tr>\n",
       "      <th>3</th>\n",
       "      <td>4</td>\n",
       "      <td>2022-07-30</td>\n",
       "      <td>Mahesh Sarade</td>\n",
       "      <td>14</td>\n",
       "      <td>00:01:04</td>\n",
       "      <td>00:15:46</td>\n",
       "      <td>4.71</td>\n",
       "      <td>7</td>\n",
       "    </tr>\n",
       "    <tr>\n",
       "      <th>4</th>\n",
       "      <td>5</td>\n",
       "      <td>2022-07-30</td>\n",
       "      <td>Swati</td>\n",
       "      <td>14</td>\n",
       "      <td>00:01:11</td>\n",
       "      <td>00:16:33</td>\n",
       "      <td>3.67</td>\n",
       "      <td>6</td>\n",
       "    </tr>\n",
       "    <tr>\n",
       "      <th>...</th>\n",
       "      <td>...</td>\n",
       "      <td>...</td>\n",
       "      <td>...</td>\n",
       "      <td>...</td>\n",
       "      <td>...</td>\n",
       "      <td>...</td>\n",
       "      <td>...</td>\n",
       "      <td>...</td>\n",
       "    </tr>\n",
       "    <tr>\n",
       "      <th>2155</th>\n",
       "      <td>2156</td>\n",
       "      <td>2022-07-01</td>\n",
       "      <td>Sowmiya Sivakumar</td>\n",
       "      <td>0</td>\n",
       "      <td>00:00:00</td>\n",
       "      <td>00:00:00</td>\n",
       "      <td>0.00</td>\n",
       "      <td>0</td>\n",
       "    </tr>\n",
       "    <tr>\n",
       "      <th>2156</th>\n",
       "      <td>2157</td>\n",
       "      <td>2022-07-01</td>\n",
       "      <td>Nitin M</td>\n",
       "      <td>0</td>\n",
       "      <td>00:00:00</td>\n",
       "      <td>00:00:00</td>\n",
       "      <td>0.00</td>\n",
       "      <td>0</td>\n",
       "    </tr>\n",
       "    <tr>\n",
       "      <th>2157</th>\n",
       "      <td>2158</td>\n",
       "      <td>2022-07-01</td>\n",
       "      <td>Vivek</td>\n",
       "      <td>0</td>\n",
       "      <td>00:00:00</td>\n",
       "      <td>00:00:00</td>\n",
       "      <td>0.00</td>\n",
       "      <td>0</td>\n",
       "    </tr>\n",
       "    <tr>\n",
       "      <th>2158</th>\n",
       "      <td>2159</td>\n",
       "      <td>2022-07-01</td>\n",
       "      <td>Ayushi Mishra</td>\n",
       "      <td>0</td>\n",
       "      <td>00:00:00</td>\n",
       "      <td>00:00:00</td>\n",
       "      <td>0.00</td>\n",
       "      <td>0</td>\n",
       "    </tr>\n",
       "    <tr>\n",
       "      <th>2159</th>\n",
       "      <td>2160</td>\n",
       "      <td>2022-07-01</td>\n",
       "      <td>Chaitra K Hiremath</td>\n",
       "      <td>0</td>\n",
       "      <td>00:00:00</td>\n",
       "      <td>00:00:00</td>\n",
       "      <td>0.00</td>\n",
       "      <td>0</td>\n",
       "    </tr>\n",
       "  </tbody>\n",
       "</table>\n",
       "<p>2160 rows × 8 columns</p>\n",
       "</div>"
      ],
      "text/plain": [
       "      SL No        Date          Agent Name  Total Chats  \\\n",
       "0         1  2022-07-30        Prerna Singh           11   \n",
       "1         2  2022-07-30       Nandani Gupta           11   \n",
       "2         3  2022-07-30          Ameya Jain           14   \n",
       "3         4  2022-07-30       Mahesh Sarade           14   \n",
       "4         5  2022-07-30              Swati            14   \n",
       "...     ...         ...                 ...          ...   \n",
       "2155   2156  2022-07-01   Sowmiya Sivakumar            0   \n",
       "2156   2157  2022-07-01             Nitin M            0   \n",
       "2157   2158  2022-07-01              Vivek             0   \n",
       "2158   2159  2022-07-01       Ayushi Mishra            0   \n",
       "2159   2160  2022-07-01  Chaitra K Hiremath            0   \n",
       "\n",
       "     Average Response Time Average Resolution Time  Average Rating  \\\n",
       "0                 00:00:38                00:04:20            4.11   \n",
       "1                 00:01:15                00:28:25            3.14   \n",
       "2                 00:00:30                00:11:36            4.55   \n",
       "3                 00:01:04                00:15:46            4.71   \n",
       "4                 00:01:11                00:16:33            3.67   \n",
       "...                    ...                     ...             ...   \n",
       "2155              00:00:00                00:00:00            0.00   \n",
       "2156              00:00:00                00:00:00            0.00   \n",
       "2157              00:00:00                00:00:00            0.00   \n",
       "2158              00:00:00                00:00:00            0.00   \n",
       "2159              00:00:00                00:00:00            0.00   \n",
       "\n",
       "      Total Feedback  \n",
       "0                  9  \n",
       "1                  7  \n",
       "2                 11  \n",
       "3                  7  \n",
       "4                  6  \n",
       "...              ...  \n",
       "2155               0  \n",
       "2156               0  \n",
       "2157               0  \n",
       "2158               0  \n",
       "2159               0  \n",
       "\n",
       "[2160 rows x 8 columns]"
      ]
     },
     "execution_count": 62,
     "metadata": {},
     "output_type": "execute_result"
    }
   ],
   "source": [
    "Agent_df"
   ]
  },
  {
   "cell_type": "code",
   "execution_count": 63,
   "id": "c20f5aa1",
   "metadata": {},
   "outputs": [
    {
     "data": {
      "text/plain": [
       "0       2022-07-30\n",
       "1       2022-07-30\n",
       "2       2022-07-30\n",
       "3       2022-07-30\n",
       "4       2022-07-30\n",
       "           ...    \n",
       "2155    2022-07-01\n",
       "2156    2022-07-01\n",
       "2157    2022-07-01\n",
       "2158    2022-07-01\n",
       "2159    2022-07-01\n",
       "Name: Date, Length: 2160, dtype: object"
      ]
     },
     "execution_count": 63,
     "metadata": {},
     "output_type": "execute_result"
    }
   ],
   "source": [
    "Agent_df[\"Date\"]"
   ]
  },
  {
   "cell_type": "code",
   "execution_count": 69,
   "id": "51134c64",
   "metadata": {},
   "outputs": [],
   "source": [
    "Agent_df[\"Date\"] = Agent_df[\"Date\"].astype('datetime64[ns]')"
   ]
  },
  {
   "cell_type": "code",
   "execution_count": 70,
   "id": "b783570c",
   "metadata": {},
   "outputs": [
    {
     "data": {
      "text/plain": [
       "SL No                               int64\n",
       "Date                       datetime64[ns]\n",
       "Agent Name                         object\n",
       "Total Chats                         int64\n",
       "Average Response Time              object\n",
       "Average Resolution Time            object\n",
       "Average Rating                    float64\n",
       "Total Feedback                      int64\n",
       "dtype: object"
      ]
     },
     "execution_count": 70,
     "metadata": {},
     "output_type": "execute_result"
    }
   ],
   "source": [
    "Agent_df.dtypes"
   ]
  },
  {
   "cell_type": "code",
   "execution_count": 71,
   "id": "7819f531",
   "metadata": {},
   "outputs": [],
   "source": [
    "Agent_df[\"day\"] = Agent_df['Date'].apply (lambda r :r.day)\n",
    "Agent_df[\"month\"] = Agent_df['Date'].apply (lambda r :r.month)\n",
    "Agent_df[\"year\"] = Agent_df['Date'].apply (lambda r :r.year)\n",
    "Agent_df[\"week\"] = Agent_df['Date'].apply (lambda r :r.week)\n"
   ]
  },
  {
   "cell_type": "code",
   "execution_count": 72,
   "id": "5f24ad35",
   "metadata": {},
   "outputs": [
    {
     "data": {
      "text/html": [
       "<div>\n",
       "<style scoped>\n",
       "    .dataframe tbody tr th:only-of-type {\n",
       "        vertical-align: middle;\n",
       "    }\n",
       "\n",
       "    .dataframe tbody tr th {\n",
       "        vertical-align: top;\n",
       "    }\n",
       "\n",
       "    .dataframe thead th {\n",
       "        text-align: right;\n",
       "    }\n",
       "</style>\n",
       "<table border=\"1\" class=\"dataframe\">\n",
       "  <thead>\n",
       "    <tr style=\"text-align: right;\">\n",
       "      <th></th>\n",
       "      <th>SL No</th>\n",
       "      <th>Date</th>\n",
       "      <th>Agent Name</th>\n",
       "      <th>Total Chats</th>\n",
       "      <th>Average Response Time</th>\n",
       "      <th>Average Resolution Time</th>\n",
       "      <th>Average Rating</th>\n",
       "      <th>Total Feedback</th>\n",
       "      <th>day</th>\n",
       "      <th>month</th>\n",
       "      <th>year</th>\n",
       "      <th>week</th>\n",
       "    </tr>\n",
       "  </thead>\n",
       "  <tbody>\n",
       "    <tr>\n",
       "      <th>0</th>\n",
       "      <td>1</td>\n",
       "      <td>2022-07-30</td>\n",
       "      <td>Prerna Singh</td>\n",
       "      <td>11</td>\n",
       "      <td>00:00:38</td>\n",
       "      <td>00:04:20</td>\n",
       "      <td>4.11</td>\n",
       "      <td>9</td>\n",
       "      <td>30</td>\n",
       "      <td>7</td>\n",
       "      <td>2022</td>\n",
       "      <td>30</td>\n",
       "    </tr>\n",
       "    <tr>\n",
       "      <th>1</th>\n",
       "      <td>2</td>\n",
       "      <td>2022-07-30</td>\n",
       "      <td>Nandani Gupta</td>\n",
       "      <td>11</td>\n",
       "      <td>00:01:15</td>\n",
       "      <td>00:28:25</td>\n",
       "      <td>3.14</td>\n",
       "      <td>7</td>\n",
       "      <td>30</td>\n",
       "      <td>7</td>\n",
       "      <td>2022</td>\n",
       "      <td>30</td>\n",
       "    </tr>\n",
       "    <tr>\n",
       "      <th>2</th>\n",
       "      <td>3</td>\n",
       "      <td>2022-07-30</td>\n",
       "      <td>Ameya Jain</td>\n",
       "      <td>14</td>\n",
       "      <td>00:00:30</td>\n",
       "      <td>00:11:36</td>\n",
       "      <td>4.55</td>\n",
       "      <td>11</td>\n",
       "      <td>30</td>\n",
       "      <td>7</td>\n",
       "      <td>2022</td>\n",
       "      <td>30</td>\n",
       "    </tr>\n",
       "    <tr>\n",
       "      <th>3</th>\n",
       "      <td>4</td>\n",
       "      <td>2022-07-30</td>\n",
       "      <td>Mahesh Sarade</td>\n",
       "      <td>14</td>\n",
       "      <td>00:01:04</td>\n",
       "      <td>00:15:46</td>\n",
       "      <td>4.71</td>\n",
       "      <td>7</td>\n",
       "      <td>30</td>\n",
       "      <td>7</td>\n",
       "      <td>2022</td>\n",
       "      <td>30</td>\n",
       "    </tr>\n",
       "    <tr>\n",
       "      <th>4</th>\n",
       "      <td>5</td>\n",
       "      <td>2022-07-30</td>\n",
       "      <td>Swati</td>\n",
       "      <td>14</td>\n",
       "      <td>00:01:11</td>\n",
       "      <td>00:16:33</td>\n",
       "      <td>3.67</td>\n",
       "      <td>6</td>\n",
       "      <td>30</td>\n",
       "      <td>7</td>\n",
       "      <td>2022</td>\n",
       "      <td>30</td>\n",
       "    </tr>\n",
       "    <tr>\n",
       "      <th>...</th>\n",
       "      <td>...</td>\n",
       "      <td>...</td>\n",
       "      <td>...</td>\n",
       "      <td>...</td>\n",
       "      <td>...</td>\n",
       "      <td>...</td>\n",
       "      <td>...</td>\n",
       "      <td>...</td>\n",
       "      <td>...</td>\n",
       "      <td>...</td>\n",
       "      <td>...</td>\n",
       "      <td>...</td>\n",
       "    </tr>\n",
       "    <tr>\n",
       "      <th>2155</th>\n",
       "      <td>2156</td>\n",
       "      <td>2022-07-01</td>\n",
       "      <td>Sowmiya Sivakumar</td>\n",
       "      <td>0</td>\n",
       "      <td>00:00:00</td>\n",
       "      <td>00:00:00</td>\n",
       "      <td>0.00</td>\n",
       "      <td>0</td>\n",
       "      <td>1</td>\n",
       "      <td>7</td>\n",
       "      <td>2022</td>\n",
       "      <td>26</td>\n",
       "    </tr>\n",
       "    <tr>\n",
       "      <th>2156</th>\n",
       "      <td>2157</td>\n",
       "      <td>2022-07-01</td>\n",
       "      <td>Nitin M</td>\n",
       "      <td>0</td>\n",
       "      <td>00:00:00</td>\n",
       "      <td>00:00:00</td>\n",
       "      <td>0.00</td>\n",
       "      <td>0</td>\n",
       "      <td>1</td>\n",
       "      <td>7</td>\n",
       "      <td>2022</td>\n",
       "      <td>26</td>\n",
       "    </tr>\n",
       "    <tr>\n",
       "      <th>2157</th>\n",
       "      <td>2158</td>\n",
       "      <td>2022-07-01</td>\n",
       "      <td>Vivek</td>\n",
       "      <td>0</td>\n",
       "      <td>00:00:00</td>\n",
       "      <td>00:00:00</td>\n",
       "      <td>0.00</td>\n",
       "      <td>0</td>\n",
       "      <td>1</td>\n",
       "      <td>7</td>\n",
       "      <td>2022</td>\n",
       "      <td>26</td>\n",
       "    </tr>\n",
       "    <tr>\n",
       "      <th>2158</th>\n",
       "      <td>2159</td>\n",
       "      <td>2022-07-01</td>\n",
       "      <td>Ayushi Mishra</td>\n",
       "      <td>0</td>\n",
       "      <td>00:00:00</td>\n",
       "      <td>00:00:00</td>\n",
       "      <td>0.00</td>\n",
       "      <td>0</td>\n",
       "      <td>1</td>\n",
       "      <td>7</td>\n",
       "      <td>2022</td>\n",
       "      <td>26</td>\n",
       "    </tr>\n",
       "    <tr>\n",
       "      <th>2159</th>\n",
       "      <td>2160</td>\n",
       "      <td>2022-07-01</td>\n",
       "      <td>Chaitra K Hiremath</td>\n",
       "      <td>0</td>\n",
       "      <td>00:00:00</td>\n",
       "      <td>00:00:00</td>\n",
       "      <td>0.00</td>\n",
       "      <td>0</td>\n",
       "      <td>1</td>\n",
       "      <td>7</td>\n",
       "      <td>2022</td>\n",
       "      <td>26</td>\n",
       "    </tr>\n",
       "  </tbody>\n",
       "</table>\n",
       "<p>2160 rows × 12 columns</p>\n",
       "</div>"
      ],
      "text/plain": [
       "      SL No       Date          Agent Name  Total Chats Average Response Time  \\\n",
       "0         1 2022-07-30        Prerna Singh           11              00:00:38   \n",
       "1         2 2022-07-30       Nandani Gupta           11              00:01:15   \n",
       "2         3 2022-07-30          Ameya Jain           14              00:00:30   \n",
       "3         4 2022-07-30       Mahesh Sarade           14              00:01:04   \n",
       "4         5 2022-07-30              Swati            14              00:01:11   \n",
       "...     ...        ...                 ...          ...                   ...   \n",
       "2155   2156 2022-07-01   Sowmiya Sivakumar            0              00:00:00   \n",
       "2156   2157 2022-07-01             Nitin M            0              00:00:00   \n",
       "2157   2158 2022-07-01              Vivek             0              00:00:00   \n",
       "2158   2159 2022-07-01       Ayushi Mishra            0              00:00:00   \n",
       "2159   2160 2022-07-01  Chaitra K Hiremath            0              00:00:00   \n",
       "\n",
       "     Average Resolution Time  Average Rating  Total Feedback  day  month  \\\n",
       "0                   00:04:20            4.11               9   30      7   \n",
       "1                   00:28:25            3.14               7   30      7   \n",
       "2                   00:11:36            4.55              11   30      7   \n",
       "3                   00:15:46            4.71               7   30      7   \n",
       "4                   00:16:33            3.67               6   30      7   \n",
       "...                      ...             ...             ...  ...    ...   \n",
       "2155                00:00:00            0.00               0    1      7   \n",
       "2156                00:00:00            0.00               0    1      7   \n",
       "2157                00:00:00            0.00               0    1      7   \n",
       "2158                00:00:00            0.00               0    1      7   \n",
       "2159                00:00:00            0.00               0    1      7   \n",
       "\n",
       "      year  week  \n",
       "0     2022    30  \n",
       "1     2022    30  \n",
       "2     2022    30  \n",
       "3     2022    30  \n",
       "4     2022    30  \n",
       "...    ...   ...  \n",
       "2155  2022    26  \n",
       "2156  2022    26  \n",
       "2157  2022    26  \n",
       "2158  2022    26  \n",
       "2159  2022    26  \n",
       "\n",
       "[2160 rows x 12 columns]"
      ]
     },
     "execution_count": 72,
     "metadata": {},
     "output_type": "execute_result"
    }
   ],
   "source": [
    "Agent_df"
   ]
  },
  {
   "cell_type": "markdown",
   "id": "df23e030",
   "metadata": {},
   "source": [
    " # 1.Find out there avarage rating on weekly basis keep this in a mind that they take two days of leave"
   ]
  },
  {
   "cell_type": "code",
   "execution_count": 81,
   "id": "50c1f71d",
   "metadata": {},
   "outputs": [],
   "source": [
    "Agent_week_rating = Agent_df[(Agent_df['Average Rating'] != 0) & (Agent_df['Agent Name'] == \"Prerna Singh\")][['Agent Name','Average Rating','week']].groupby('week')\n",
    "                              "
   ]
  },
  {
   "cell_type": "code",
   "execution_count": 82,
   "id": "6a2494ed",
   "metadata": {},
   "outputs": [
    {
     "data": {
      "text/plain": [
       "<pandas.core.groupby.generic.DataFrameGroupBy object at 0x00000237325A5FA0>"
      ]
     },
     "execution_count": 82,
     "metadata": {},
     "output_type": "execute_result"
    }
   ],
   "source": [
    "Agent_week_rating"
   ]
  },
  {
   "cell_type": "markdown",
   "id": "4153731c",
   "metadata": {},
   "source": [
    "# 2.Total working days for each agents"
   ]
  },
  {
   "cell_type": "code",
   "execution_count": 86,
   "id": "7f518006",
   "metadata": {},
   "outputs": [],
   "source": [
    "agent_individual = Agent_df[Agent_df[\"Agent Name\"] == \"Prerna Singh\"]\n",
    "agent_working = agent_individual[agent_individual[\"Total Chats\"] != 0][[\"day\"]]"
   ]
  },
  {
   "cell_type": "code",
   "execution_count": 87,
   "id": "0efc9c5d",
   "metadata": {},
   "outputs": [
    {
     "data": {
      "text/plain": [
       "22"
      ]
     },
     "execution_count": 87,
     "metadata": {},
     "output_type": "execute_result"
    }
   ],
   "source": [
    "len(agent_working[\"day\"])"
   ]
  },
  {
   "cell_type": "markdown",
   "id": "cfe10998",
   "metadata": {},
   "source": [
    "# 3. Total query that you have taken"
   ]
  },
  {
   "cell_type": "code",
   "execution_count": 89,
   "id": "9f881618",
   "metadata": {},
   "outputs": [
    {
     "data": {
      "text/plain": [
       "14720"
      ]
     },
     "execution_count": 89,
     "metadata": {},
     "output_type": "execute_result"
    }
   ],
   "source": [
    "Agent_df[\"Total Chats\"].sum()"
   ]
  },
  {
   "cell_type": "markdown",
   "id": "046fede1",
   "metadata": {},
   "source": [
    "# 4. Total Feedback that you have received "
   ]
  },
  {
   "cell_type": "code",
   "execution_count": 91,
   "id": "2202f40c",
   "metadata": {},
   "outputs": [
    {
     "data": {
      "text/plain": [
       "9259"
      ]
     },
     "execution_count": 91,
     "metadata": {},
     "output_type": "execute_result"
    }
   ],
   "source": [
    "Agent_df[\"Total Feedback\"].sum()"
   ]
  },
  {
   "cell_type": "markdown",
   "id": "2e1b3eb1",
   "metadata": {},
   "source": [
    "# 5. agent name who have average rating between 3.5 to 4 "
   ]
  },
  {
   "cell_type": "code",
   "execution_count": 92,
   "id": "63781292",
   "metadata": {},
   "outputs": [
    {
     "data": {
      "text/html": [
       "<div>\n",
       "<style scoped>\n",
       "    .dataframe tbody tr th:only-of-type {\n",
       "        vertical-align: middle;\n",
       "    }\n",
       "\n",
       "    .dataframe tbody tr th {\n",
       "        vertical-align: top;\n",
       "    }\n",
       "\n",
       "    .dataframe thead th {\n",
       "        text-align: right;\n",
       "    }\n",
       "</style>\n",
       "<table border=\"1\" class=\"dataframe\">\n",
       "  <thead>\n",
       "    <tr style=\"text-align: right;\">\n",
       "      <th></th>\n",
       "      <th>Average Rating</th>\n",
       "      <th>Agent Name</th>\n",
       "    </tr>\n",
       "  </thead>\n",
       "  <tbody>\n",
       "    <tr>\n",
       "      <th>4</th>\n",
       "      <td>3.67</td>\n",
       "      <td>Swati</td>\n",
       "    </tr>\n",
       "    <tr>\n",
       "      <th>10</th>\n",
       "      <td>3.60</td>\n",
       "      <td>Manjunatha A</td>\n",
       "    </tr>\n",
       "    <tr>\n",
       "      <th>76</th>\n",
       "      <td>3.75</td>\n",
       "      <td>Prateek _iot</td>\n",
       "    </tr>\n",
       "    <tr>\n",
       "      <th>78</th>\n",
       "      <td>3.79</td>\n",
       "      <td>Nandani Gupta</td>\n",
       "    </tr>\n",
       "    <tr>\n",
       "      <th>80</th>\n",
       "      <td>3.95</td>\n",
       "      <td>Jaydeep Dixit</td>\n",
       "    </tr>\n",
       "    <tr>\n",
       "      <th>...</th>\n",
       "      <td>...</td>\n",
       "      <td>...</td>\n",
       "    </tr>\n",
       "    <tr>\n",
       "      <th>1869</th>\n",
       "      <td>3.78</td>\n",
       "      <td>Boktiar Ahmed Bappy</td>\n",
       "    </tr>\n",
       "    <tr>\n",
       "      <th>1874</th>\n",
       "      <td>3.80</td>\n",
       "      <td>Ayushi Mishra</td>\n",
       "    </tr>\n",
       "    <tr>\n",
       "      <th>1941</th>\n",
       "      <td>3.80</td>\n",
       "      <td>Jawala Prakash</td>\n",
       "    </tr>\n",
       "    <tr>\n",
       "      <th>2021</th>\n",
       "      <td>3.54</td>\n",
       "      <td>Aditya Shinde</td>\n",
       "    </tr>\n",
       "    <tr>\n",
       "      <th>2023</th>\n",
       "      <td>3.71</td>\n",
       "      <td>Deepranjan Gupta</td>\n",
       "    </tr>\n",
       "  </tbody>\n",
       "</table>\n",
       "<p>78 rows × 2 columns</p>\n",
       "</div>"
      ],
      "text/plain": [
       "      Average Rating           Agent Name\n",
       "4               3.67               Swati \n",
       "10              3.60         Manjunatha A\n",
       "76              3.75        Prateek _iot \n",
       "78              3.79        Nandani Gupta\n",
       "80              3.95        Jaydeep Dixit\n",
       "...              ...                  ...\n",
       "1869            3.78  Boktiar Ahmed Bappy\n",
       "1874            3.80        Ayushi Mishra\n",
       "1941            3.80       Jawala Prakash\n",
       "2021            3.54        Aditya Shinde\n",
       "2023            3.71     Deepranjan Gupta\n",
       "\n",
       "[78 rows x 2 columns]"
      ]
     },
     "execution_count": 92,
     "metadata": {},
     "output_type": "execute_result"
    }
   ],
   "source": [
    "Agent_df[(Agent_df[\"Average Rating\"] >3.5) & (Agent_df[\"Average Rating\"]<4)][[\"Average Rating\",\"Agent Name\"]]"
   ]
  },
  {
   "cell_type": "markdown",
   "id": "06934766",
   "metadata": {},
   "source": [
    "# 6.  Agent name who have rating lesss then 3.5 "
   ]
  },
  {
   "cell_type": "code",
   "execution_count": 93,
   "id": "4dfa26b5",
   "metadata": {},
   "outputs": [
    {
     "data": {
      "text/html": [
       "<div>\n",
       "<style scoped>\n",
       "    .dataframe tbody tr th:only-of-type {\n",
       "        vertical-align: middle;\n",
       "    }\n",
       "\n",
       "    .dataframe tbody tr th {\n",
       "        vertical-align: top;\n",
       "    }\n",
       "\n",
       "    .dataframe thead th {\n",
       "        text-align: right;\n",
       "    }\n",
       "</style>\n",
       "<table border=\"1\" class=\"dataframe\">\n",
       "  <thead>\n",
       "    <tr style=\"text-align: right;\">\n",
       "      <th></th>\n",
       "      <th>Average Rating</th>\n",
       "      <th>Agent Name</th>\n",
       "    </tr>\n",
       "  </thead>\n",
       "  <tbody>\n",
       "    <tr>\n",
       "      <th>1</th>\n",
       "      <td>3.14</td>\n",
       "      <td>Nandani Gupta</td>\n",
       "    </tr>\n",
       "    <tr>\n",
       "      <th>19</th>\n",
       "      <td>0.00</td>\n",
       "      <td>Hitesh Choudhary</td>\n",
       "    </tr>\n",
       "    <tr>\n",
       "      <th>20</th>\n",
       "      <td>0.00</td>\n",
       "      <td>Sanjeevan</td>\n",
       "    </tr>\n",
       "    <tr>\n",
       "      <th>21</th>\n",
       "      <td>0.00</td>\n",
       "      <td>Anirudh</td>\n",
       "    </tr>\n",
       "    <tr>\n",
       "      <th>22</th>\n",
       "      <td>0.00</td>\n",
       "      <td>Shiva Srivastava</td>\n",
       "    </tr>\n",
       "    <tr>\n",
       "      <th>...</th>\n",
       "      <td>...</td>\n",
       "      <td>...</td>\n",
       "    </tr>\n",
       "    <tr>\n",
       "      <th>2155</th>\n",
       "      <td>0.00</td>\n",
       "      <td>Sowmiya Sivakumar</td>\n",
       "    </tr>\n",
       "    <tr>\n",
       "      <th>2156</th>\n",
       "      <td>0.00</td>\n",
       "      <td>Nitin M</td>\n",
       "    </tr>\n",
       "    <tr>\n",
       "      <th>2157</th>\n",
       "      <td>0.00</td>\n",
       "      <td>Vivek</td>\n",
       "    </tr>\n",
       "    <tr>\n",
       "      <th>2158</th>\n",
       "      <td>0.00</td>\n",
       "      <td>Ayushi Mishra</td>\n",
       "    </tr>\n",
       "    <tr>\n",
       "      <th>2159</th>\n",
       "      <td>0.00</td>\n",
       "      <td>Chaitra K Hiremath</td>\n",
       "    </tr>\n",
       "  </tbody>\n",
       "</table>\n",
       "<p>1474 rows × 2 columns</p>\n",
       "</div>"
      ],
      "text/plain": [
       "      Average Rating          Agent Name\n",
       "1               3.14       Nandani Gupta\n",
       "19              0.00    Hitesh Choudhary\n",
       "20              0.00          Sanjeevan \n",
       "21              0.00            Anirudh \n",
       "22              0.00    Shiva Srivastava\n",
       "...              ...                 ...\n",
       "2155            0.00   Sowmiya Sivakumar\n",
       "2156            0.00             Nitin M\n",
       "2157            0.00              Vivek \n",
       "2158            0.00       Ayushi Mishra\n",
       "2159            0.00  Chaitra K Hiremath\n",
       "\n",
       "[1474 rows x 2 columns]"
      ]
     },
     "execution_count": 93,
     "metadata": {},
     "output_type": "execute_result"
    }
   ],
   "source": [
    "Agent_df[Agent_df[\"Average Rating\"]<3.5][[\"Average Rating\",\"Agent Name\"]]"
   ]
  },
  {
   "cell_type": "markdown",
   "id": "6b806139",
   "metadata": {},
   "source": [
    "# 7.  agent name who have rating more then 4.5 "
   ]
  },
  {
   "cell_type": "code",
   "execution_count": 96,
   "id": "9d3ac2b3",
   "metadata": {},
   "outputs": [],
   "source": [
    "top_agents = Agent_df[Agent_df[\"Average Rating\"]>4.5][[\"Average Rating\",\"Agent Name\"]]"
   ]
  },
  {
   "cell_type": "code",
   "execution_count": 97,
   "id": "cfe9b79e",
   "metadata": {},
   "outputs": [
    {
     "data": {
      "text/html": [
       "<div>\n",
       "<style scoped>\n",
       "    .dataframe tbody tr th:only-of-type {\n",
       "        vertical-align: middle;\n",
       "    }\n",
       "\n",
       "    .dataframe tbody tr th {\n",
       "        vertical-align: top;\n",
       "    }\n",
       "\n",
       "    .dataframe thead th {\n",
       "        text-align: right;\n",
       "    }\n",
       "</style>\n",
       "<table border=\"1\" class=\"dataframe\">\n",
       "  <thead>\n",
       "    <tr style=\"text-align: right;\">\n",
       "      <th></th>\n",
       "      <th>Average Rating</th>\n",
       "      <th>Agent Name</th>\n",
       "    </tr>\n",
       "  </thead>\n",
       "  <tbody>\n",
       "    <tr>\n",
       "      <th>2</th>\n",
       "      <td>4.55</td>\n",
       "      <td>Ameya Jain</td>\n",
       "    </tr>\n",
       "    <tr>\n",
       "      <th>3</th>\n",
       "      <td>4.71</td>\n",
       "      <td>Mahesh Sarade</td>\n",
       "    </tr>\n",
       "    <tr>\n",
       "      <th>5</th>\n",
       "      <td>4.62</td>\n",
       "      <td>Mukesh</td>\n",
       "    </tr>\n",
       "    <tr>\n",
       "      <th>6</th>\n",
       "      <td>5.00</td>\n",
       "      <td>Saikumarreddy N</td>\n",
       "    </tr>\n",
       "    <tr>\n",
       "      <th>7</th>\n",
       "      <td>5.00</td>\n",
       "      <td>Sanjeev Kumar</td>\n",
       "    </tr>\n",
       "    <tr>\n",
       "      <th>...</th>\n",
       "      <td>...</td>\n",
       "      <td>...</td>\n",
       "    </tr>\n",
       "    <tr>\n",
       "      <th>2100</th>\n",
       "      <td>5.00</td>\n",
       "      <td>Shubham Sharma</td>\n",
       "    </tr>\n",
       "    <tr>\n",
       "      <th>2101</th>\n",
       "      <td>4.77</td>\n",
       "      <td>Jaydeep Dixit</td>\n",
       "    </tr>\n",
       "    <tr>\n",
       "      <th>2102</th>\n",
       "      <td>4.86</td>\n",
       "      <td>Shivananda Sonwane</td>\n",
       "    </tr>\n",
       "    <tr>\n",
       "      <th>2103</th>\n",
       "      <td>4.61</td>\n",
       "      <td>Khushboo Priya</td>\n",
       "    </tr>\n",
       "    <tr>\n",
       "      <th>2104</th>\n",
       "      <td>4.56</td>\n",
       "      <td>Hrisikesh Neogi</td>\n",
       "    </tr>\n",
       "  </tbody>\n",
       "</table>\n",
       "<p>307 rows × 2 columns</p>\n",
       "</div>"
      ],
      "text/plain": [
       "      Average Rating          Agent Name\n",
       "2               4.55          Ameya Jain\n",
       "3               4.71       Mahesh Sarade\n",
       "5               4.62             Mukesh \n",
       "6               5.00     Saikumarreddy N\n",
       "7               5.00       Sanjeev Kumar\n",
       "...              ...                 ...\n",
       "2100            5.00      Shubham Sharma\n",
       "2101            4.77       Jaydeep Dixit\n",
       "2102            4.86  Shivananda Sonwane\n",
       "2103            4.61      Khushboo Priya\n",
       "2104            4.56     Hrisikesh Neogi\n",
       "\n",
       "[307 rows x 2 columns]"
      ]
     },
     "execution_count": 97,
     "metadata": {},
     "output_type": "execute_result"
    }
   ],
   "source": [
    "top_agents"
   ]
  },
  {
   "cell_type": "markdown",
   "id": "16756e68",
   "metadata": {},
   "source": [
    "# 8. how many feedaback agents have received more then 4.5 average"
   ]
  },
  {
   "cell_type": "code",
   "execution_count": 98,
   "id": "a542e876",
   "metadata": {},
   "outputs": [
    {
     "data": {
      "text/plain": [
       "307"
      ]
     },
     "execution_count": 98,
     "metadata": {},
     "output_type": "execute_result"
    }
   ],
   "source": [
    "len(top_agents[\"Agent Name\"])"
   ]
  },
  {
   "cell_type": "markdown",
   "id": "9c6432bd",
   "metadata": {},
   "source": [
    "# 11.  list of all agents name"
   ]
  },
  {
   "cell_type": "code",
   "execution_count": 99,
   "id": "9a2e6bd2",
   "metadata": {},
   "outputs": [
    {
     "data": {
      "text/plain": [
       "array(['Prerna Singh', 'Nandani Gupta', 'Ameya Jain', 'Mahesh Sarade',\n",
       "       'Swati ', 'Mukesh ', 'Saikumarreddy N', 'Sanjeev Kumar',\n",
       "       'Shubham Sharma', 'Nishtha Jain', 'Manjunatha A', 'Khushboo Priya',\n",
       "       'Suraj S Bilgi', 'Harikrishnan Shaji', 'Hrisikesh Neogi',\n",
       "       'Shivan K', 'Sowmiya Sivakumar', 'Madhulika G', 'Mithun S',\n",
       "       'Hitesh Choudhary', 'Sanjeevan ', 'Anirudh ', 'Shiva Srivastava',\n",
       "       'Dibyanshu ', 'Ashish ', 'Uday Mishra', 'Aditya Shinde',\n",
       "       'Jayant Kumar', 'Aditya_iot ', 'Prabir Kumar Satapathy',\n",
       "       'Saurabh Shukla', 'Wasim ', 'Samprit ', 'Maitry ', 'Abhishek ',\n",
       "       'Rishav Dash', 'Aravind ', 'Tarun ', 'Muskan Garg', 'Ankit Sharma',\n",
       "       'Bharath ', 'Ashad Nasim', 'Vasanth P', 'Aditya ', 'Amersh ',\n",
       "       'Sandipan Saha', 'Ineuron Intelligence ', 'Mahak ', 'Mukesh Rao ',\n",
       "       'Zeeshan ', 'Anurag Tiwari', 'Ankitjha ', 'Saif Khan',\n",
       "       'Jaydeep Dixit', 'Sudhanshu Kumar', 'Maneesh ', 'Hyder Abbas',\n",
       "       'Rohan ', 'Vivek ', 'Nitin M', 'Shivan_S ', 'Spuri ',\n",
       "       'Ayushi Mishra', 'Chaitra K Hiremath', 'Prateek _iot ',\n",
       "       'Boktiar Ahmed Bappy', 'Shivananda Sonwane', 'Ishawant Kumar',\n",
       "       'Deepranjan Gupta', 'Jawala Prakash'], dtype=object)"
      ]
     },
     "execution_count": 99,
     "metadata": {},
     "output_type": "execute_result"
    }
   ],
   "source": [
    "Agent_df[\"Agent Name\"].unique()"
   ]
  },
  {
   "cell_type": "markdown",
   "id": "aa6240a8",
   "metadata": {},
   "source": [
    "# 12. percentage of chat on which they have received a feedback"
   ]
  },
  {
   "cell_type": "code",
   "execution_count": 100,
   "id": "6c63da97",
   "metadata": {},
   "outputs": [],
   "source": [
    "agent_feedback = Agent_df[Agent_df[\"Total Chats\"] != 0][[\"Agent Name\",\"Total Chats\",\"Total Feedback\"]]\n",
    "agent_feedback[\"feedback_ratio\"] = agent_feedback[\"Total Feedback\"]/agent_feedback[\"Total Chats\"]"
   ]
  },
  {
   "cell_type": "code",
   "execution_count": 101,
   "id": "a8100dd0",
   "metadata": {},
   "outputs": [
    {
     "data": {
      "text/html": [
       "<div>\n",
       "<style scoped>\n",
       "    .dataframe tbody tr th:only-of-type {\n",
       "        vertical-align: middle;\n",
       "    }\n",
       "\n",
       "    .dataframe tbody tr th {\n",
       "        vertical-align: top;\n",
       "    }\n",
       "\n",
       "    .dataframe thead th {\n",
       "        text-align: right;\n",
       "    }\n",
       "</style>\n",
       "<table border=\"1\" class=\"dataframe\">\n",
       "  <thead>\n",
       "    <tr style=\"text-align: right;\">\n",
       "      <th></th>\n",
       "      <th>Agent Name</th>\n",
       "      <th>Total Chats</th>\n",
       "      <th>Total Feedback</th>\n",
       "      <th>feedback_ratio</th>\n",
       "    </tr>\n",
       "  </thead>\n",
       "  <tbody>\n",
       "    <tr>\n",
       "      <th>0</th>\n",
       "      <td>Prerna Singh</td>\n",
       "      <td>11</td>\n",
       "      <td>9</td>\n",
       "      <td>0.818182</td>\n",
       "    </tr>\n",
       "    <tr>\n",
       "      <th>1</th>\n",
       "      <td>Nandani Gupta</td>\n",
       "      <td>11</td>\n",
       "      <td>7</td>\n",
       "      <td>0.636364</td>\n",
       "    </tr>\n",
       "    <tr>\n",
       "      <th>2</th>\n",
       "      <td>Ameya Jain</td>\n",
       "      <td>14</td>\n",
       "      <td>11</td>\n",
       "      <td>0.785714</td>\n",
       "    </tr>\n",
       "    <tr>\n",
       "      <th>3</th>\n",
       "      <td>Mahesh Sarade</td>\n",
       "      <td>14</td>\n",
       "      <td>7</td>\n",
       "      <td>0.500000</td>\n",
       "    </tr>\n",
       "    <tr>\n",
       "      <th>4</th>\n",
       "      <td>Swati</td>\n",
       "      <td>14</td>\n",
       "      <td>6</td>\n",
       "      <td>0.428571</td>\n",
       "    </tr>\n",
       "    <tr>\n",
       "      <th>...</th>\n",
       "      <td>...</td>\n",
       "      <td>...</td>\n",
       "      <td>...</td>\n",
       "      <td>...</td>\n",
       "    </tr>\n",
       "    <tr>\n",
       "      <th>2101</th>\n",
       "      <td>Jaydeep Dixit</td>\n",
       "      <td>25</td>\n",
       "      <td>13</td>\n",
       "      <td>0.520000</td>\n",
       "    </tr>\n",
       "    <tr>\n",
       "      <th>2102</th>\n",
       "      <td>Shivananda Sonwane</td>\n",
       "      <td>23</td>\n",
       "      <td>14</td>\n",
       "      <td>0.608696</td>\n",
       "    </tr>\n",
       "    <tr>\n",
       "      <th>2103</th>\n",
       "      <td>Khushboo Priya</td>\n",
       "      <td>24</td>\n",
       "      <td>18</td>\n",
       "      <td>0.750000</td>\n",
       "    </tr>\n",
       "    <tr>\n",
       "      <th>2104</th>\n",
       "      <td>Hrisikesh Neogi</td>\n",
       "      <td>15</td>\n",
       "      <td>9</td>\n",
       "      <td>0.600000</td>\n",
       "    </tr>\n",
       "    <tr>\n",
       "      <th>2105</th>\n",
       "      <td>Tarun</td>\n",
       "      <td>22</td>\n",
       "      <td>6</td>\n",
       "      <td>0.272727</td>\n",
       "    </tr>\n",
       "  </tbody>\n",
       "</table>\n",
       "<p>745 rows × 4 columns</p>\n",
       "</div>"
      ],
      "text/plain": [
       "              Agent Name  Total Chats  Total Feedback  feedback_ratio\n",
       "0           Prerna Singh           11               9        0.818182\n",
       "1          Nandani Gupta           11               7        0.636364\n",
       "2             Ameya Jain           14              11        0.785714\n",
       "3          Mahesh Sarade           14               7        0.500000\n",
       "4                 Swati            14               6        0.428571\n",
       "...                  ...          ...             ...             ...\n",
       "2101       Jaydeep Dixit           25              13        0.520000\n",
       "2102  Shivananda Sonwane           23              14        0.608696\n",
       "2103      Khushboo Priya           24              18        0.750000\n",
       "2104     Hrisikesh Neogi           15               9        0.600000\n",
       "2105              Tarun            22               6        0.272727\n",
       "\n",
       "[745 rows x 4 columns]"
      ]
     },
     "execution_count": 101,
     "metadata": {},
     "output_type": "execute_result"
    }
   ],
   "source": [
    "agent_feedback"
   ]
  },
  {
   "cell_type": "markdown",
   "id": "568c989b",
   "metadata": {},
   "source": [
    "# 13. average weekly response time for each agent "
   ]
  },
  {
   "cell_type": "code",
   "execution_count": 121,
   "id": "91739b29",
   "metadata": {},
   "outputs": [],
   "source": [
    "agent_response = Agent_df[(Agent_df[\"Total Chats\"] != 0)][[\"Agent Name\",\"Average Response Time\",\"week\"]]\n",
    "agent_response = agent_response[agent_response[\"Agent Name\"] == \"Prerna Singh\"]\n",
    "agent_response = agent_response[\"Average Response Time\"]"
   ]
  },
  {
   "cell_type": "code",
   "execution_count": 122,
   "id": "d44f6116",
   "metadata": {},
   "outputs": [
    {
     "data": {
      "text/plain": [
       "0       00:00:38\n",
       "79      00:01:00\n",
       "222     00:01:10\n",
       "296     00:01:00\n",
       "369     00:01:06\n",
       "509     00:00:35\n",
       "581     00:01:26\n",
       "724     00:00:51\n",
       "796     00:01:19\n",
       "869     00:00:53\n",
       "1025    00:00:59\n",
       "1092    00:00:46\n",
       "1245    00:01:03\n",
       "1308    00:01:05\n",
       "1386    00:01:00\n",
       "1529    00:01:01\n",
       "1602    00:00:44\n",
       "1746    00:01:22\n",
       "1821    00:01:05\n",
       "1881    00:01:33\n",
       "2025    00:01:24\n",
       "2099    00:01:50\n",
       "Name: Average Response Time, dtype: object"
      ]
     },
     "execution_count": 122,
     "metadata": {},
     "output_type": "execute_result"
    }
   ],
   "source": [
    "agent_response"
   ]
  },
  {
   "cell_type": "markdown",
   "id": "90bbcb3c",
   "metadata": {},
   "source": [
    "# 14. average weekely resolution time for each agents "
   ]
  },
  {
   "cell_type": "code",
   "execution_count": 127,
   "id": "078a0fbc",
   "metadata": {},
   "outputs": [
    {
     "data": {
      "text/plain": [
       "Agent Name  week\n",
       "Abhishek    26                               00:00:0000:00:0000:00:00\n",
       "            27      00:00:0000:00:0000:00:0000:00:0000:00:0000:00:...\n",
       "            28      00:00:0000:00:0000:00:0000:00:0000:00:0000:00:...\n",
       "            29      00:00:0000:00:0000:00:0000:00:0000:00:0000:00:...\n",
       "            30       00:00:0000:00:0000:00:0000:00:0000:00:0000:00:00\n",
       "                                          ...                        \n",
       "Zeeshan     26                               00:00:0000:00:0000:00:00\n",
       "            27      00:00:0000:00:0000:21:1500:16:2600:00:0000:00:...\n",
       "            28      00:00:0000:18:1600:28:0600:00:0000:18:3300:25:...\n",
       "            29      00:20:0400:00:0000:18:3100:17:2800:13:4000:00:...\n",
       "            30       00:00:0000:22:4500:16:1300:21:1100:00:0000:17:12\n",
       "Name: Average Resolution Time, Length: 350, dtype: object"
      ]
     },
     "execution_count": 127,
     "metadata": {},
     "output_type": "execute_result"
    }
   ],
   "source": [
    "Agent_df.groupby(['Agent Name','week'])['Average Resolution Time'].sum()"
   ]
  },
  {
   "cell_type": "markdown",
   "id": "02e2543d",
   "metadata": {},
   "source": [
    "# 15. Total contributation hour for each and every agents weekly basis "
   ]
  },
  {
   "cell_type": "code",
   "execution_count": 129,
   "id": "718f6639",
   "metadata": {},
   "outputs": [],
   "source": [
    "Agent_df['daily hours'] = Agent_df['Total Chats']*Agent_df['Average Resolution Time']"
   ]
  },
  {
   "cell_type": "code",
   "execution_count": 130,
   "id": "6c9d970e",
   "metadata": {},
   "outputs": [
    {
     "data": {
      "text/plain": [
       "Agent Name\n",
       "Abhishek                                                          \n",
       "Aditya                                                            \n",
       "Aditya Shinde    00:34:4000:34:4000:34:4000:34:4000:34:4000:34:...\n",
       "Aditya_iot       00:13:2200:13:2200:13:2200:13:2200:13:2200:13:...\n",
       "Amersh                                                            \n",
       "                                       ...                        \n",
       "Uday Mishra                                                       \n",
       "Vasanth P                                                         \n",
       "Vivek            00:24:1800:24:1800:24:1800:24:1800:24:1800:24:...\n",
       "Wasim            00:18:2400:18:2400:18:2400:18:2400:18:2400:18:...\n",
       "Zeeshan          00:22:4500:22:4500:22:4500:22:4500:22:4500:22:...\n",
       "Name: daily hours, Length: 70, dtype: object"
      ]
     },
     "execution_count": 130,
     "metadata": {},
     "output_type": "execute_result"
    }
   ],
   "source": [
    "Agent_df.groupby('Agent Name')['daily hours'].sum()"
   ]
  },
  {
   "cell_type": "code",
   "execution_count": null,
   "id": "953cad0c",
   "metadata": {},
   "outputs": [],
   "source": []
  }
 ],
 "metadata": {
  "kernelspec": {
   "display_name": "Python 3 (ipykernel)",
   "language": "python",
   "name": "python3"
  },
  "language_info": {
   "codemirror_mode": {
    "name": "ipython",
    "version": 3
   },
   "file_extension": ".py",
   "mimetype": "text/x-python",
   "name": "python",
   "nbconvert_exporter": "python",
   "pygments_lexer": "ipython3",
   "version": "3.9.12"
  }
 },
 "nbformat": 4,
 "nbformat_minor": 5
}
